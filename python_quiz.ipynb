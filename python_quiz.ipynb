{
 "cells": [
  {
   "cell_type": "markdown",
   "metadata": {},
   "source": [
    "## **1)** How do you assign a variable in python?"
   ]
  },
  {
   "cell_type": "markdown",
   "metadata": {
    "collapsed": true
   },
   "source": [
    "Assigning a variable is using the equal to (=) sign\n",
    "a = 3"
   ]
  },
  {
   "cell_type": "markdown",
   "metadata": {},
   "source": [
    "## **2)** How do you define a function in python?"
   ]
  },
  {
   "cell_type": "code",
   "execution_count": null,
   "metadata": {
    "collapsed": true
   },
   "outputs": [],
   "source": [
    "A function is a block of organized, reusable code that is used to perform a single, related action. \n",
    "Functions provide better modularity for your application and a high degree of code reusing."
   ]
  },
  {
   "cell_type": "markdown",
   "metadata": {},
   "source": [
    "## **2)a** What is the difference between a position argument and a keyword argument?"
   ]
  },
  {
   "cell_type": "markdown",
   "metadata": {
    "collapsed": true
   },
   "source": [
    "A positional argument is a name that is not followed by an equal sign (=) and default value.\n",
    "Items from a sequence are defined as the positional arguments for a function with the * operator.\n",
    "\n",
    "A keyword argument is followed by an equal sign and an expression that gives its default value.\n",
    "Keyword arguments make the intention of a function call more clear."
   ]
  },
  {
   "cell_type": "code",
   "execution_count": 8,
   "metadata": {
    "collapsed": false
   },
   "outputs": [
    {
     "name": "stdout",
     "output_type": "stream",
     "text": [
      "(789, [])\n",
      "{'firstname': 'Smitha', 'lastname': 'Shivakumar'}\n"
     ]
    }
   ],
   "source": [
    "def fun(*pargs, **kwargs):\n",
    "    print (pargs)\n",
    "    print (kwargs)\n",
    "    \n",
    "fun(789,[], firstname = 'Smitha',lastname = 'Shivakumar')"
   ]
  },
  {
   "cell_type": "markdown",
   "metadata": {},
   "source": [
    "## 3) How can you define a function that takes a variable number of positional arguments?"
   ]
  },
  {
   "cell_type": "markdown",
   "metadata": {
    "collapsed": true
   },
   "source": [
    "Functions can accept a variable number of positional arguments by using *args in the def statement."
   ]
  },
  {
   "cell_type": "markdown",
   "metadata": {},
   "source": [
    "### 3b) How can you define a function that takes a variabe number of keyword arguments?"
   ]
  },
  {
   "cell_type": "markdown",
   "metadata": {
    "collapsed": true
   },
   "source": [
    "Functions can accept a variable number of positional arguments by using **kwargs in the def statement."
   ]
  },
  {
   "cell_type": "markdown",
   "metadata": {},
   "source": [
    "## (Extra Credit) Define a function that takes 2 known positional arguments and 2 known keyword arguments AND an unknown number of additional positional and keyword arguments"
   ]
  },
  {
   "cell_type": "code",
   "execution_count": 9,
   "metadata": {
    "collapsed": false
   },
   "outputs": [
    {
     "name": "stdout",
     "output_type": "stream",
     "text": [
      "2\n",
      "3\n",
      "(789, [])\n",
      "{'firstname': 'Smitha', 'lastname': 'Shivakumar'}\n"
     ]
    }
   ],
   "source": [
    "def fun(arg1, arg2, *pargs, **kwargs):\n",
    "    print (arg1)\n",
    "    print (arg2)\n",
    "    print (pargs)\n",
    "    print (kwargs)\n",
    "    \n",
    "fun(2, 3, 789,[], firstname = 'Smitha',lastname = 'Shivakumar')"
   ]
  },
  {
   "cell_type": "markdown",
   "metadata": {},
   "source": [
    "### 4) What is a class and how do you define one in python?"
   ]
  },
  {
   "cell_type": "markdown",
   "metadata": {
    "collapsed": true
   },
   "source": [
    "class is a blueprint of a set of attributes and different actions, which canbe customised every time a \n",
    "class is instantiated or called by an object.\n",
    "\n",
    "Class definitions, like function definitions (def statements) must be executed before they have any effect. \n",
    "(could conceivably place a class definition in a branch of an if statement, or inside a function."
   ]
  },
  {
   "cell_type": "markdown",
   "metadata": {},
   "source": [
    "### 4a) What is an instance of a class and how do you create one?"
   ]
  },
  {
   "cell_type": "markdown",
   "metadata": {
    "collapsed": true
   },
   "source": [
    "The instantiation operation (“calling” a class object) creates an empty object. \n",
    "Many classes like to create objects with instances customized to a specific initial state.\n"
   ]
  },
  {
   "cell_type": "code",
   "execution_count": 15,
   "metadata": {
    "collapsed": false
   },
   "outputs": [
    {
     "data": {
      "text/plain": [
       "<__main__.example at 0x37bc1777f0>"
      ]
     },
     "execution_count": 15,
     "metadata": {},
     "output_type": "execute_result"
    }
   ],
   "source": [
    "class example():\n",
    "    def __init__(self,name):\n",
    "        self.name = name\n",
    "    def check(self):\n",
    "        print(name)\n",
    "        \n",
    "\n",
    "hey = example('smitha')\n",
    "hey\n",
    "##Here 'hey' is an instance of the class example."
   ]
  },
  {
   "cell_type": "markdown",
   "metadata": {},
   "source": [
    "### 4b) How do you define a method on class? What needs to be the first positional argument to a method and what is its purpose?"
   ]
  },
  {
   "cell_type": "markdown",
   "metadata": {
    "collapsed": true
   },
   "source": [
    "class example():\n",
    "    def __init__(self,name):\n",
    "        self.name = name\n",
    "    def check(self):\n",
    "        print(name)\n",
    "        \n",
    "the object is passed as the first argument of the function\n",
    "A method is a function that “belongs to” an object. \n",
    "The term method is not unique to class instances: other object types can have methods as well.\n",
    "In the above example, check is a method in the class example.\n",
    "\n",
    "'self' is the first positional argument and it is is implicit, from the point of view of the caller.\n",
    "It is so, because most methods do some work with the object they're called on, so there needs to be some way for that object to be referred to inside the method."
   ]
  },
  {
   "cell_type": "markdown",
   "metadata": {},
   "source": [
    "### 5) What is a list in python? What is it good for? How is it used?"
   ]
  },
  {
   "cell_type": "markdown",
   "metadata": {
    "collapsed": true
   },
   "source": [
    "List is a type of sequence, Each element of a sequence is assigned a number - its position or index.\n",
    "The list is a most versatile datatype available in Python which can be written as a list of comma-separated \n",
    "values (items) between square brackets. \n",
    "Important thing about a list is that items in a list need not be of the same type."
   ]
  },
  {
   "cell_type": "markdown",
   "metadata": {},
   "source": [
    "### 5b) What is a dictionary in python? What is it good for and how is it used? "
   ]
  },
  {
   "cell_type": "markdown",
   "metadata": {
    "collapsed": true
   },
   "source": [
    "In a dictionary, each key is separated from its value by a colon (:), the items are separated by commas, and the whole thing is \n",
    "enclosed in curly braces. \n",
    "An empty dictionary without any items is written with just two curly braces, like this: {}.\n",
    "\n",
    "Keys are unique within a dictionary while values may not be. The values of a dictionary can be of any type, \n",
    "but the keys must be of an immutable data type such as strings, numbers, or tuples."
   ]
  },
  {
   "cell_type": "markdown",
   "metadata": {},
   "source": [
    "### 5c) What is a set in python? What is it good for and how is it used?"
   ]
  },
  {
   "cell_type": "markdown",
   "metadata": {
    "collapsed": true
   },
   "source": [
    "A set contains an unordered collection of unique and immutable objects. The set data type is, as the name implies, \n",
    "a Python implementation of the sets as they are known from mathematics.\n"
   ]
  }
 ],
 "metadata": {
  "anaconda-cloud": {},
  "kernelspec": {
   "display_name": "Python [conda root]",
   "language": "python",
   "name": "conda-root-py"
  },
  "language_info": {
   "codemirror_mode": {
    "name": "ipython",
    "version": 3
   },
   "file_extension": ".py",
   "mimetype": "text/x-python",
   "name": "python",
   "nbconvert_exporter": "python",
   "pygments_lexer": "ipython3",
   "version": "3.5.2"
  }
 },
 "nbformat": 4,
 "nbformat_minor": 1
}
