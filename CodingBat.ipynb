{
 "cells": [
  {
   "cell_type": "markdown",
   "metadata": {},
   "source": []
  },
  {
   "cell_type": "code",
   "execution_count": 4,
   "metadata": {
    "collapsed": false
   },
   "outputs": [
    {
     "data": {
      "text/plain": [
       "True"
      ]
     },
     "execution_count": 4,
     "metadata": {},
     "output_type": "execute_result"
    }
   ],
   "source": [
    "def makes10(a, b):\n",
    "    if a == 10 or b == 10 or (a+b) == 10:\n",
    "        return True\n",
    "    return False\n",
    "\n",
    "makes10(9,10)"
   ]
  },
  {
   "cell_type": "markdown",
   "metadata": {},
   "source": []
  },
  {
   "cell_type": "code",
   "execution_count": 7,
   "metadata": {
    "collapsed": false
   },
   "outputs": [
    {
     "data": {
      "text/plain": [
       "True"
      ]
     },
     "execution_count": 7,
     "metadata": {},
     "output_type": "execute_result"
    }
   ],
   "source": [
    "def near_hundred(n):\n",
    "    if (100 - n) in range (0,11):\n",
    "        return True\n",
    "    if (100 - n) in range (0,11):\n",
    "        return True\n",
    "    return False\n",
    "\n",
    "def near_hundred(n):\n",
    "    return ((abs(100 - n) <= 10) or (abs(200 - n) <= 10))\n",
    "\n",
    "near_hundred(90)"
   ]
  },
  {
   "cell_type": "markdown",
   "metadata": {},
   "source": []
  },
  {
   "cell_type": "code",
   "execution_count": 19,
   "metadata": {
    "collapsed": false
   },
   "outputs": [
    {
     "data": {
      "text/plain": [
       "False"
      ]
     },
     "execution_count": 19,
     "metadata": {},
     "output_type": "execute_result"
    }
   ],
   "source": [
    "def pos_neg(a, b, negative):\n",
    "    if negative:\n",
    "        return (a < 0 and b < 0)\n",
    "    else:\n",
    "        return ((a < 0 and b > 0) or (a > 0 and b < 0))\n",
    "\n",
    "# def pos_neg(a, b, negative):\n",
    "#     if a < 0 or b < 0:\n",
    "#         if negative == True:\n",
    "#             return True\n",
    "#         return True\n",
    "    \n",
    "#     return False\n",
    "\n",
    "# def pos_neg(a, b, negative):\n",
    "#     if a < 0 or b < 0:\n",
    "#         return True\n",
    "#     return False\n",
    "\n",
    "pos_neg(1,1,False)"
   ]
  },
  {
   "cell_type": "markdown",
   "metadata": {},
   "source": []
  },
  {
   "cell_type": "code",
   "execution_count": 24,
   "metadata": {
    "collapsed": false
   },
   "outputs": [
    {
     "data": {
      "text/plain": [
       "'not is not'"
      ]
     },
     "execution_count": 24,
     "metadata": {},
     "output_type": "execute_result"
    }
   ],
   "source": [
    "def not_string(str):\n",
    "    if 'not' in str.split()[0]:\n",
    "        return str\n",
    "    else:\n",
    "        return 'not '+str\n",
    "\n",
    "not_string('is not')"
   ]
  },
  {
   "cell_type": "markdown",
   "metadata": {},
   "source": []
  },
  {
   "cell_type": "code",
   "execution_count": 29,
   "metadata": {
    "collapsed": false
   },
   "outputs": [
    {
     "data": {
      "text/plain": [
       "'kitte'"
      ]
     },
     "execution_count": 29,
     "metadata": {},
     "output_type": "execute_result"
    }
   ],
   "source": [
    "def missing_char(str, n):\n",
    "    return str[:n] + str[n+1:]\n",
    "\n",
    "missing_char('kitten', 5)"
   ]
  },
  {
   "cell_type": "markdown",
   "metadata": {},
   "source": []
  },
  {
   "cell_type": "code",
   "execution_count": 35,
   "metadata": {
    "collapsed": false
   },
   "outputs": [
    {
     "data": {
      "text/plain": [
       "'c'"
      ]
     },
     "execution_count": 35,
     "metadata": {},
     "output_type": "execute_result"
    }
   ],
   "source": [
    "def front_back(str):\n",
    "    if len(str) == 1:\n",
    "        return str\n",
    "    return str[-1:] + str[1:-1] + str[:1]\n",
    "\n",
    "front_back('c')"
   ]
  },
  {
   "cell_type": "markdown",
   "metadata": {},
   "source": []
  },
  {
   "cell_type": "code",
   "execution_count": 39,
   "metadata": {
    "collapsed": false
   },
   "outputs": [
    {
     "data": {
      "text/plain": [
       "'JavJavJav'"
      ]
     },
     "execution_count": 39,
     "metadata": {},
     "output_type": "execute_result"
    }
   ],
   "source": [
    "def front3(str):\n",
    "    return 3*(str[:3])\n",
    "    \n",
    "front3('Java')"
   ]
  },
  {
   "cell_type": "markdown",
   "metadata": {},
   "source": []
  },
  {
   "cell_type": "code",
   "execution_count": 42,
   "metadata": {
    "collapsed": false
   },
   "outputs": [
    {
     "data": {
      "text/plain": [
       "'jj'"
      ]
     },
     "execution_count": 42,
     "metadata": {},
     "output_type": "execute_result"
    }
   ],
   "source": [
    "def front_times(str, n):\n",
    "    if len(str) <= 3:\n",
    "        return n*str\n",
    "    return n*str[:3]\n",
    "\n",
    "front_times('j',2)"
   ]
  },
  {
   "cell_type": "code",
   "execution_count": null,
   "metadata": {
    "collapsed": true
   },
   "outputs": [],
   "source": []
  },
  {
   "cell_type": "code",
   "execution_count": 47,
   "metadata": {
    "collapsed": false
   },
   "outputs": [
    {
     "data": {
      "text/plain": [
       "'Hlo'"
      ]
     },
     "execution_count": 47,
     "metadata": {},
     "output_type": "execute_result"
    }
   ],
   "source": [
    "def string_bits(str):\n",
    "#     new_str =[]\n",
    "#     for i in range(len(str)):\n",
    "#         new_str.append(str[i])\n",
    "#         i += 2\n",
    "    return str[::2]\n",
    "\n",
    "string_bits('Hello')"
   ]
  },
  {
   "cell_type": "markdown",
   "metadata": {},
   "source": [
    "\n",
    "Given a non-empty string like \"Code\" return a string like \"CCoCodCode\".\n",
    "\n",
    "string_splosion('Code') → 'CCoCodCode'\n",
    "string_splosion('abc') → 'aababc'\n",
    "string_splosion('ab') → 'aab'"
   ]
  },
  {
   "cell_type": "code",
   "execution_count": 69,
   "metadata": {
    "collapsed": false
   },
   "outputs": [
    {
     "data": {
      "text/plain": [
       "'aababc'"
      ]
     },
     "execution_count": 69,
     "metadata": {},
     "output_type": "execute_result"
    }
   ],
   "source": [
    "def string_splosion(str):\n",
    "    result = ''\n",
    "    for i in range(len(str)):\n",
    "        result = result + str[:i+1]\n",
    "    return result   # str[i] +[:-len(str)]\n",
    "\n",
    "string_splosion('Code')\n",
    "string_splosion('abc')\n",
    "# string_splosion('ab')"
   ]
  },
  {
   "cell_type": "markdown",
   "metadata": {},
   "source": [
    "Given a string, return the count of the number of times that a substring length 2 appears in the string and also as the last 2 chars of the string, so \"hixxxhi\" yields 1 (we won't count the end substring).\n",
    "\n",
    "last2('hixxhi') → 1\n",
    "last2('xaxxaxaxx') → 1\n",
    "last2('axxxaaxx') → 2"
   ]
  },
  {
   "cell_type": "code",
   "execution_count": 92,
   "metadata": {
    "collapsed": false
   },
   "outputs": [
    {
     "data": {
      "text/plain": [
       "2"
      ]
     },
     "execution_count": 92,
     "metadata": {},
     "output_type": "execute_result"
    }
   ],
   "source": [
    "def last2(str):\n",
    "    count = 0\n",
    "    substring = str[len(str)-2:]\n",
    "    for i in range(len(str)-2):\n",
    "        sub = str[i:i+2]\n",
    "        if sub in substring:\n",
    "            count +=  1\n",
    "    return count\n",
    "    \n",
    "# last2('hixxhi')\n",
    "# last2('xaxxaxaxx')\n",
    "last2('axxxaaxx')"
   ]
  },
  {
   "cell_type": "code",
   "execution_count": 107,
   "metadata": {
    "collapsed": false
   },
   "outputs": [
    {
     "data": {
      "text/plain": [
       "4"
      ]
     },
     "execution_count": 107,
     "metadata": {},
     "output_type": "execute_result"
    }
   ],
   "source": [
    "def array_count9(nums):\n",
    "    nine = 9\n",
    "    count = 0\n",
    "    for i in nums:\n",
    "        if i == nine : #nine in nums[:i-1]: #nums[i]==nine:\n",
    "            count += 1\n",
    "    return count\n",
    "\n",
    "\n",
    "array_count9([1, 9, 2, 9,9,9])"
   ]
  },
  {
   "cell_type": "code",
   "execution_count": 117,
   "metadata": {
    "collapsed": false
   },
   "outputs": [
    {
     "data": {
      "text/plain": [
       "True"
      ]
     },
     "execution_count": 117,
     "metadata": {},
     "output_type": "execute_result"
    }
   ],
   "source": [
    "def array_front9(nums):\n",
    "    if len(nums)<4:\n",
    "        return True if 9 in nums else False\n",
    "        \n",
    "    for i in nums[:4]:\n",
    "        if i == 9:\n",
    "            return True\n",
    "    return False\n",
    "        \n",
    "array_front9([1, 2, 3, 9, 7])"
   ]
  },
  {
   "cell_type": "markdown",
   "metadata": {},
   "source": [
    "\n",
    "Given an array of ints, return True if the sequence of numbers 1, 2, 3 appears in the array somewhere.\n",
    "\n",
    "array123([1, 1, 2, 3, 1]) → True\n",
    "array123([1, 1, 2, 4, 1]) → False\n",
    "array123([1, 1, 2, 1, 2, 3]) → True"
   ]
  },
  {
   "cell_type": "code",
   "execution_count": 121,
   "metadata": {
    "collapsed": false
   },
   "outputs": [
    {
     "data": {
      "text/plain": [
       "True"
      ]
     },
     "execution_count": 121,
     "metadata": {},
     "output_type": "execute_result"
    }
   ],
   "source": [
    "def array123(nums):\n",
    "    a = [1,2,3]\n",
    "    \n",
    "    if len(nums) <= 3:\n",
    "        return nums == a\n",
    "    \n",
    "    for i in nums:\n",
    "        sub = nums[i:i+3]\n",
    "        if sub == a:\n",
    "            return True\n",
    "    return False\n",
    "\n",
    "\n",
    "# array123([1, 1, 2, 3, 1])\n",
    "array123([1, 2, 3])"
   ]
  },
  {
   "cell_type": "markdown",
   "metadata": {},
   "source": [
    "\n",
    "Given 2 strings, a and b, return the number of the positions where they contain the same length 2 substring. So \"xxcaazz\" and \"xxbaaz\" yields 3, since the \"xx\", \"aa\", and \"az\" substrings appear in the same place in both strings.\n",
    "\n",
    "string_match('xxcaazz', 'xxbaaz') → 3\n",
    "string_match('abc', 'abc') → 2\n",
    "string_match('abc', 'axc') → 0"
   ]
  },
  {
   "cell_type": "code",
   "execution_count": 124,
   "metadata": {
    "collapsed": false
   },
   "outputs": [
    {
     "data": {
      "text/plain": [
       "3"
      ]
     },
     "execution_count": 124,
     "metadata": {},
     "output_type": "execute_result"
    }
   ],
   "source": [
    "def string_match(a, b):\n",
    "    shorter_len = min(len(a),len(b))\n",
    "    count = 0\n",
    "    for i in range(shorter_len ):\n",
    "        suba = a[i:i+2]\n",
    "        subb = b[i:i+2]\n",
    "        if suba in subb:\n",
    "            count += 1\n",
    "    return count\n",
    "\n",
    "\n",
    "string_match('xxcaazz', 'xxbaaz')  "
   ]
  },
  {
   "cell_type": "code",
   "execution_count": null,
   "metadata": {
    "collapsed": true
   },
   "outputs": [],
   "source": [
    "def hello_name(name):\n",
    "    return 'Hello ' + name + '!'\n",
    "\n",
    "def make_abba(a, b):\n",
    "    return a+b+b+a\n",
    "\n",
    "b"
   ]
  },
  {
   "cell_type": "code",
   "execution_count": 149,
   "metadata": {
    "collapsed": false
   },
   "outputs": [
    {
     "name": "stdout",
     "output_type": "stream",
     "text": [
      "3\n",
      "4.0\n"
     ]
    }
   ],
   "source": [
    "# Complete the function below.\n",
    "\n",
    "import math\n",
    "def subarray_median(arr, k):\n",
    "    if len(arr) == 1 :\n",
    "        return 0\n",
    "    mid = math.floor(len(arr)/2)\n",
    "    if arr[mid] == k:\n",
    "        return mid\n",
    "    elif arr[mid] < k:\n",
    "        return subarray_median(arr[mid:],k)+mid\n",
    "    else:\n",
    "        return subarray_median(arr[:mid],k)\n",
    "    \n",
    "def mediancalc(arr,k):\n",
    "    sm = subarray_median(arr,k)\n",
    "    if sm % 2 !=0:\n",
    "        fl = math.floor(sm/2)\n",
    "        return (arr[fl] + arr[fl+1]) /2 \n",
    "    else:\n",
    "        fl = math.floor((sm/2)+1)\n",
    "        return arr[fl]\n",
    "\n",
    "\n",
    "print(subarray_median([1,3,5,6,7],6))\n",
    "print(mediancalc([1,3,5,6,7],55)\n"
   ]
  },
  {
   "cell_type": "code",
   "execution_count": null,
   "metadata": {
    "collapsed": false
   },
   "outputs": [],
   "source": [
    "\n",
    "\n",
    "    \n"
   ]
  },
  {
   "cell_type": "code",
   "execution_count": 187,
   "metadata": {
    "collapsed": false
   },
   "outputs": [
    {
     "name": "stdout",
     "output_type": "stream",
     "text": [
      "5\n"
     ]
    }
   ],
   "source": [
    "Lake = [[-1, -1, -1], \n",
    "       [1, -1 ,-1] ,\n",
    "       [-1, -1, -1 \n",
    "       ]]\n",
    "\n",
    "# foo =  [\n",
    "#        [1, 2 ] ,\n",
    "#        [ 3,4 ]]\n",
    "\n",
    "# print(foo[0][1])\n",
    "def can_move(LakeLen,Lake,Alb_row, Alb_col):\n",
    "    if Alb_col == LakeLen -1 :\n",
    "        return True\n",
    "    if Alb_row == LakeLen -1 :\n",
    "        return True \n",
    "    if Alb_col == 0 :\n",
    "        return True\n",
    "    if Alb_row == 0 :\n",
    "        return True\n",
    "    \n",
    "    if Lake[Alb_row+1][Alb_col] != -1:\n",
    "        return True\n",
    "    elif Lake[Alb_row-1][Alb_col] != -1:\n",
    "        return True\n",
    "    elif  Lake[Alb_row][Alb_col+1] != -1:\n",
    "        return True\n",
    "    elif Lake[Alb_row][Alb_col-1] != -1:\n",
    "        print(Lake[Alb_col-1])\n",
    "        return True\n",
    "\n",
    "    return False\n",
    "\n",
    "def on_ice(Lake,row, col):\n",
    "    Lake[row][col]==0\n",
    "\n",
    "def on_hole(Lake,row, col):\n",
    "    Lake[row][col]==-1\n",
    "    \n",
    "def on_snowbank(Lake,row, col):\n",
    "    Lake[row][col]==1\n",
    "    \n",
    "def move_horizontal(LakeLen, Lake, Alb_row, Alb_col, kuna_row, kuna_col):\n",
    "    if kuna_col > Alb_col:\n",
    "        can_move(LakeLen,Lake,Alb_row, Alb_col)\n",
    "        Lake[Alb_col] = Lake[Alb_col] \n",
    "    \n",
    "def move_vertical(LakeLen, Lake, Alb_row, Alb_col, kuna_row, kuna_col):\n",
    "    if kuna_col > Alb_col:\n",
    "        can_move(LakeLen,Lake,Alb_row, Alb_col)\n",
    "        Lake[Alb_col] = Lake[Alb_col] \n",
    "\n",
    "def reachable(LakeLen, Lake, Alb_row, Alb_col, kuna_row, kuna_col):\n",
    "    row_diff = Alb_row - kuna_row \n",
    "    col_diff = Alb_col - kuna_col\n",
    "    \n",
    "#     if row_diff != 0:\n",
    "    if Alb_row != kuna_row and Alb_col != kuna_col:\n",
    "        new_row, new_col = move_Albert(LakeLen, Lake, Alb_row, Alb_col, kuna_row, kuna_col)\n",
    "        return reachable(LakeLen, Lake, new_row, new_col, kuna_row, kuna_col)\n",
    "    \n",
    "    if Alb_row == kuna_row:\n",
    "        move_horizontal(LakeLen,Lake,Alb_row, Alb_col, kuna_row, kuna_col)\n",
    "#         new_row = move_Albert(LakeLen, Lake, Alb_row, Alb_col, kuna_row, kuna_col)\n",
    "        return reachable(LakeLen, Lake, new_row, new_col, kuna_row, kuna_col)\n",
    "        \n",
    "    if Alb_col == kuna_col:\n",
    "        move_vertical(LakeLen,Lake,Alb_row, Alb_col, kuna_row, kuna_col)\n",
    "#         new_row = move_Albert(LakeLen, Lake, Alb_row, Alb_col, kuna_row, kuna_col)\n",
    "        return reachable(LakeLen, Lake, new_row, new_col, kuna_row, kuna_col)    \n",
    "    \n",
    "    \n",
    "    \n",
    "    \n",
    "# print(Lake[1][-1])\n",
    "\n",
    "# print(can_Alb_move(3,Lake,1,0))\n",
    "# can_Alb_move([2,4], 1,2)\n",
    "def  escape(LakeLen, Lake, Alb_row, Alb_col, kuna_row, kuna_col):\n",
    "    pup = False\n",
    "\n",
    "    \n",
    "    if can_move(LakeLen, Lake, Alb_row, Alb_col) == False:\n",
    "        return 0\n",
    "    if can_move (LakeLen, Lake, kuna_row, kuna_col) == False:\n",
    "        return 0\n",
    "    \n",
    "    \n",
    "#     if (Alb_row)\n",
    "#     if row_diff < 0 :\n",
    "        "
   ]
  },
  {
   "cell_type": "code",
   "execution_count": null,
   "metadata": {
    "collapsed": true
   },
   "outputs": [],
   "source": [
    "for i in range(10):\n",
    " myList[i]=1"
   ]
  },
  {
   "cell_type": "code",
   "execution_count": 179,
   "metadata": {
    "collapsed": false
   },
   "outputs": [
    {
     "ename": "TypeError",
     "evalue": "data type not understood",
     "output_type": "error",
     "traceback": [
      "\u001b[0;31m---------------------------------------------------------------------------\u001b[0m",
      "\u001b[0;31mTypeError\u001b[0m                                 Traceback (most recent call last)",
      "\u001b[0;32m<ipython-input-179-faa832940265>\u001b[0m in \u001b[0;36m<module>\u001b[0;34m()\u001b[0m\n\u001b[1;32m      1\u001b[0m \u001b[1;32mimport\u001b[0m \u001b[0mnumpy\u001b[0m \u001b[1;32mas\u001b[0m \u001b[0mnp\u001b[0m\u001b[1;33m\u001b[0m\u001b[0m\n\u001b[0;32m----> 2\u001b[0;31m \u001b[0mnp\u001b[0m\u001b[1;33m.\u001b[0m\u001b[0mzeros\u001b[0m \u001b[1;33m(\u001b[0m\u001b[1;36m3\u001b[0m\u001b[1;33m,\u001b[0m\u001b[1;36m2\u001b[0m\u001b[1;33m)\u001b[0m\u001b[1;33m\u001b[0m\u001b[0m\n\u001b[0m",
      "\u001b[0;31mTypeError\u001b[0m: data type not understood"
     ]
    }
   ],
   "source": [
    "import numpy as np\n",
    "np.zeros (3,2)"
   ]
  },
  {
   "cell_type": "code",
   "execution_count": null,
   "metadata": {
    "collapsed": true
   },
   "outputs": [],
   "source": []
  },
  {
   "cell_type": "code",
   "execution_count": null,
   "metadata": {
    "collapsed": true
   },
   "outputs": [],
   "source": []
  },
  {
   "cell_type": "code",
   "execution_count": null,
   "metadata": {
    "collapsed": true
   },
   "outputs": [],
   "source": []
  },
  {
   "cell_type": "code",
   "execution_count": null,
   "metadata": {
    "collapsed": true
   },
   "outputs": [],
   "source": []
  }
 ],
 "metadata": {
  "anaconda-cloud": {},
  "kernelspec": {
   "display_name": "Python [conda root]",
   "language": "python",
   "name": "conda-root-py"
  },
  "language_info": {
   "codemirror_mode": {
    "name": "ipython",
    "version": 3
   },
   "file_extension": ".py",
   "mimetype": "text/x-python",
   "name": "python",
   "nbconvert_exporter": "python",
   "pygments_lexer": "ipython3",
   "version": "3.5.2"
  }
 },
 "nbformat": 4,
 "nbformat_minor": 1
}
